{
 "cells": [
  {
   "cell_type": "code",
   "execution_count": null,
   "metadata": {
    "_cell_guid": "b1076dfc-b9ad-4769-8c92-a6c4dae69d19",
    "_uuid": "8f2839f25d086af736a60e9eeb907d3b93b6e0e5",
    "execution": {
     "iopub.execute_input": "2022-05-06T19:35:57.56072Z",
     "iopub.status.busy": "2022-05-06T19:35:57.560399Z",
     "iopub.status.idle": "2022-05-06T19:36:24.584427Z",
     "shell.execute_reply": "2022-05-06T19:36:24.583267Z",
     "shell.execute_reply.started": "2022-05-06T19:35:57.560685Z"
    }
   },
   "outputs": [],
   "source": [
    "!pip install pymystem3\n",
    "!pip install pymorphy2"
   ]
  },
  {
   "cell_type": "code",
   "execution_count": 1,
   "metadata": {
    "execution": {
     "iopub.execute_input": "2022-05-06T19:36:24.588288Z",
     "iopub.status.busy": "2022-05-06T19:36:24.587977Z",
     "iopub.status.idle": "2022-05-06T19:36:29.988568Z",
     "shell.execute_reply": "2022-05-06T19:36:29.987733Z",
     "shell.execute_reply.started": "2022-05-06T19:36:24.588227Z"
    }
   },
   "outputs": [],
   "source": [
    "import pandas as pd\n",
    "from pymystem3 import Mystem\n",
    "import pymorphy2\n",
    "import json\n",
    "\n",
    "morph = pymorphy2.MorphAnalyzer()\n",
    "m = Mystem()"
   ]
  },
  {
   "cell_type": "code",
   "execution_count": 2,
   "metadata": {
    "execution": {
     "iopub.execute_input": "2022-05-06T19:36:32.736032Z",
     "iopub.status.busy": "2022-05-06T19:36:32.735155Z",
     "iopub.status.idle": "2022-05-06T19:36:49.132914Z",
     "shell.execute_reply": "2022-05-06T19:36:49.132303Z",
     "shell.execute_reply.started": "2022-05-06T19:36:32.735983Z"
    }
   },
   "outputs": [],
   "source": [
    "df1 = pd.read_csv('./corpus/lenta-ru-news.csv')\n",
    "df2 = pd.read_csv('./corpus/lenta-ru-news_1.csv')\n",
    "df =  pd.concat([df1, df2], ignore_index=True)\n",
    "texts = df['text']"
   ]
  },
  {
   "cell_type": "code",
   "execution_count": 3,
   "metadata": {
    "execution": {
     "iopub.execute_input": "2022-05-06T21:56:02.192269Z",
     "iopub.status.busy": "2022-05-06T21:56:02.191946Z",
     "iopub.status.idle": "2022-05-06T21:56:02.260387Z",
     "shell.execute_reply": "2022-05-06T21:56:02.259122Z",
     "shell.execute_reply.started": "2022-05-06T21:56:02.192214Z"
    }
   },
   "outputs": [],
   "source": [
    "# gent, datv, accs, ablt, loct\n",
    "\n",
    "model = [\n",
    "[\"О\",0.0, 0.0, 0.0769, 0.0, 0.923],\n",
    "[\"В\",0.1, 0.0, 0.276, 0.0, 0.712], # Добавлен gent\n",
    "[\"ОБ\",0.0, 0.0, 0.0222, 0.0, 0.978],\n",
    "[\"ПО\",0.1, 0.986, 0.00859, 0.0, 0.00515], # Добавлен gent\n",
    "[\"БЕЗ\",0.986, 0.0, 0.0, 0.0, 0.0],\n",
    "[\"С\",0.213, 0.0, 0.00242, 0.772, 0.0],\n",
    "[\"НЕ В\",0.0, 0.0, 0.288, 0.0, 0.712],\n",
    "[\"ПРО\",0.0, 0.0, 1.0, 0.0, 0.0],\n",
    "[\"ДО\",1.0, 0.0, 0.0, 0.0, 0.0],\n",
    "[\"ПРИ\",0.0, 0.0, 0.0, 0.0, 0.995],\n",
    "[\"К\",0.0, 1.0, 0.0, 0.0, 0.0],\n",
    "[\"СО\",0.321, 0.0, 1.0, 0.666, 0.0],\n",
    "[\"НА\",0.1, 0.0, 0.358, 0.0, 0.635], # Добавлен gent\n",
    "[\"ВО\",0.0, 0.0, 0.142, 0.0, 0.811],\n",
    "[\"ЗА\",0.0, 0.0, 0.358, 0.603, 0.0],\n",
    "[\"ПОД\",0.0, 0.0, 0.191, 0.779, 0.0],\n",
    "[\"ПЕРЕД\",0.0, 0.0, 0.0, 1.0, 0.0],\n",
    "[\"ДЛЯ\",1.0, 0.0, 0.0, 0.0, 0.0],\n",
    "[\"ЧЕРЕЗ\",0.0, 0.0, 1.0, 0.0, 0.0], # Добавлен accs\n",
    "[\"ПОСЛЕ\",1.0, 0.0, 0.0, 0.0, 0.0],\n",
    "[\"МЕЖДУ\",0.156, 0.0, 0.0, 0.844, 0.0],\n",
    "[\"НЕ БЕЗ\",1.0, 0.0, 0.0, 0.0, 0.0],\n",
    "[\"ВО ВРЕМЯ\",1.0, 0.0, 0.0, 0.0, 0.0],\n",
    "[\"В ХОДЕ\",1.0, 0.0, 0.0, 0.0, 0.0],\n",
    "[\"ПРОТИВ\",1.0, 0.0, 0.0, 0.0, 0.0],\n",
    "[\"ПРЕД\",0.0, 0.0, 0.0, 1.0, 0.0],\n",
    "[\"НАД\",0.0, 0.0, 0.0, 1.0, 0.0],\n",
    "[\"ВВИДУ\",1.0, 0.0, 0.0, 0.0, 0.0],\n",
    "[\"ОТНОСИТЕЛЬНО\", 1.0, 0.0, 0.0, 0.0, 0.0],\n",
    "[\"КО\",0.0, 1.0, 0.0, 0.0, 0.0],\n",
    "[\"СООТВЕТСТВЕННО\", 0.0, 1.0, 0.0, 0.0, 0.0],\n",
    "[\"ОТ\",1.0, 0.0, 0.0, 0.0, 0.0],\n",
    "[\"В РЕЗУЛЬТАТЕ\", 0.973, 0.0, 0.0, 0.0, 0.0],\n",
    "[\"В ТЕЧЕНИЕ\",1.0, 0.0, 0.0, 0.0, 0.0],\n",
    "[\"С ПОМОЩЬЮ\",1.0, 0.0, 0.0, 0.0, 0.0],\n",
    "[\"ПУТЕМ\",1.0, 0.0, 0.0, 0.0, 0.0],\n",
    "[\"СОГЛАСНО\",0.0, 0.909, 0.0, 0.0, 0.0],\n",
    "[\"В КАЧЕСТВЕ\",1.0, 0.0, 0.0, 0.0, 0.0],\n",
    "[\"ОКОЛО\",1.0, 0.0, 0.0, 0.0, 0.0],\n",
    "[\"БЛАГОДАРЯ\",0.0, 1.0, 0.0, 0.0, 0.0],\n",
    "[\"В ВИДЕ\",1.0, 0.0, 0.0, 0.0, 0.0],\n",
    "[\"В СООТВЕТСТВИИ С\", 0.0, 0.0, 0.0, 1.0, 0.0],\n",
    "[\"ПРИ ПОМОЩИ\",1.0, 0.0, 0.0, 0.0, 0.0],\n",
    "[\"СРЕДИ\",1.0, 0.0, 0.0, 0.0, 0.0],\n",
    "[\"МИМО\",1.0, 0.0, 0.0, 0.0, 0.0],\n",
    "[\"СКВОЗЬ\",0.0, 0.0, 1.0, 0.0, 0.0],\n",
    "[\"ВДОЛЬ\",1.0, 0.0, 0.0, 0.0, 0.0],\n",
    "[\"МЕЖ\",0.0, 0.0, 0.0, 1.0, 0.0],\n",
    "[\"РЯДОМ С\",0.0, 0.0, 0.0, 1.0, 0.0],\n",
    "[\"В СТОРОНУ\",0.857, 0.0, 0.0, 0.0, 0.0],\n",
    "[\"ВМЕСТЕ С\",0.0, 0.0, 0.0, 1.0, 0.0],\n",
    "[\"ВПЕРЕДИ\",0.75, 0.0, 0.0, 0.0, 0.0],\n",
    "[\"ПО НАПРАВЛЕНИЮ К\", 0.0, 1.0, 0.0, 0.0, 0.0],\n",
    "[\"ВСЛЕД ЗА\",0.0, 0.0, 0.0, 1.0, 0.0],\n",
    "[\"ВОКРУГ\",0.833, 0.0, 0.0, 0.0, 0.0],\n",
    "[\"СЛЕДОМ ЗА\",0.0, 0.0, 0.0, 1.0, 0.0],\n",
    "[\"В НОГУ С\",0.0, 0.0, 0.0, 1.0, 0.0],\n",
    "[\"НАПЕРЕКОР\",0.0, 1.0, 0.0, 0.0, 0.0],\n",
    "[\"ВПЕРЕД\",1.0, 0.0, 0.0, 0.0, 0.0],\n",
    "[\"РАДИ\",1.0, 0.0, 0.0, 0.0, 0.0],\n",
    "[\"НА ОСНОВАНИИ\", 1.0, 0.0, 0.0, 0.0, 0.0],\n",
    "[\"С УЧЕТОМ\",1.0, 0.0, 0.0, 0.0, 0.0],\n",
    "[\"В СВЯЗИ С\",0.0, 0.0, 0.0, 1.0, 0.0],\n",
    "[\"ОТ ИМЕНИ\",1.0, 0.0, 0.0, 0.0, 0.0],\n",
    "[\"В НАЧАЛЕ\",1.0, 0.0, 0.0, 0.0, 0.0],\n",
    "[\"У\",0.991, 0.0, 0.0, 0.0, 0.0],\n",
    "[\"НА ПОРОГЕ\",0.833, 0.0, 0.0, 0.0, 0.0],\n",
    "[\"ВНУТРИ\",1.0, 0.0, 0.0, 0.0, 0.0],\n",
    "[\"В ПРОЦЕССЕ\",1.0, 0.0, 0.0, 0.0, 0.0],\n",
    "[\"НЕДАЛЕКО ОТ\",1.0, 0.0, 0.0, 0.0, 0.0],\n",
    "[\"ВБЛИЗИ\",1.0, 0.0, 0.0, 0.0, 0.0],\n",
    "[\"НА МЕСТЕ\",1.0, 0.0, 0.0, 0.0, 0.0],\n",
    "[\"ВНЕ\",1.0, 0.0, 0.0, 0.0, 0.0],\n",
    "[\"НИЖЕ\",1.0, 0.0, 0.0, 0.0, 0.0],\n",
    "[\"НАПРОТИВ\",1.0, 0.0, 0.0, 0.0, 0.0],\n",
    "[\"ДАЛЕКО ЗА\",0.0, 0.0, 0.0, 1.0, 0.0],\n",
    "[\"В ПРЕДЕЛАХ\",1.0, 0.0, 0.0, 0.0, 0.0],\n",
    "[\"ВОЗЛЕ\",1.0, 0.0, 0.0, 0.0, 0.0],\n",
    "[\"В РАСПОРЯЖЕНИИ\", 1.0, 0.0, 0.0, 0.0, 0.0],\n",
    "[\"ВЫШЕ\",1.0, 0.0, 0.0, 0.0, 0.0],\n",
    "[\"ПОСРЕДИ\",1.0, 0.0, 0.0, 0.0, 0.0],\n",
    "[\"НАКАНУНЕ\",0.5, 0.0, 0.0, 0.0, 0.0],\n",
    "[\"ПОСРЕДСТВОМ\",1.0, 0.0, 0.0, 0.0, 0.0],\n",
    "[\"ВОПРЕКИ\",0.0, 1.0, 0.0, 0.0, 0.0],\n",
    "[\"ИЗО\",1.0, 0.0, 0.0, 0.0, 0.0],\n",
    "[\"НА СТРАЖЕ\",1.0, 0.0, 0.0, 0.0, 0.0],\n",
    "[\"ПОСЕРЕДИНЕ\",1.0, 0.0, 0.0, 0.0, 0.0],\n",
    "[\"В СВЕТЕ\",1.0, 0.0, 0.0, 0.0, 0.0],\n",
    "[\"НЕПОДАЛЕКУ ОТ\", 1.0, 0.0, 0.0, 0.0, 0.0],\n",
    "[\"ПОСРЕДИНЕ\",1.0, 0.0, 0.0, 0.0, 0.0],\n",
    "[\"ПОЗАДИ\",0.5, 0.0, 0.0, 0.0, 0.0],\n",
    "[\"ПОВЕРХ\",1.0, 0.0, 0.0, 0.0, 0.0],\n",
    "[\"ВСЛЕД\",0.0, 1.0, 0.0, 0.0, 0.0],\n",
    "[\"ЛИЦОМ К ЛИЦУ С\", 0.0, 0.0, 0.0, 1.0, 0.0],\n",
    "[\"В СИЛУ\",1.0, 0.0, 0.0, 0.0, 0.0],\n",
    "[\"СОВМЕСТНО С\",0.0, 0.0, 0.0, 1.0, 0.0],\n",
    "[\"ЗА СЧЕТ\",1.0, 0.0, 0.0, 0.0, 0.0],\n",
    "[\"СПУСТЯ\",0.0, 0.0, 1.0, 0.0, 0.0],\n",
    "[\"НА БЛАГО\",1.0, 0.0, 0.0, 0.0, 0.0],\n",
    "[\"В ОБЛАСТИ\",1.0, 0.0, 0.0, 0.0, 0.0],\n",
    "[\"ПО ОКОНЧАНИИ\", 1.0, 0.0, 0.0, 0.0, 0.0],\n",
    "[\"НЕ ЗА\",0.0, 0.0, 1.0, 1.0, 0.0],\n",
    "[\"ВНИЗУ\",1.0, 0.0, 0.0, 0.0, 0.0],\n",
    "[\"ВМЕСТО\",1.0, 0.0, 0.0, 0.0, 0.0],\n",
    "[\"ПОПЕРЕК\",1.0, 0.0, 0.0, 0.0, 0.0],\n",
    "[\"ВНУТРЬ\",1.0, 0.0, 0.0, 0.0, 0.0],\n",
    "[\"В ПАМЯТЬ О\",0.0, 0.0, 0.0, 0.0, 1.0],\n",
    "[\"ВПЛОТНУЮ К\",0.0, 1.0, 0.0, 0.0, 0.0],\n",
    "[\"НА ПРОТЯЖЕНИИ\", 1.0, 0.0, 0.0, 0.0, 0.0],\n",
    "[\"В СОГЛАСИИ С\", 0.0, 0.0, 0.0, 1.0, 0.0],\n",
    "[\"БЕЗО\",1.0, 0.0, 0.0, 0.0, 0.0],\n",
    "[\"ПО СЛУЧАЮ\",1.0, 0.0, 0.0, 0.0, 0.0],\n",
    "[\"СО СТОРОНЫ\",1.0, 0.0, 0.0, 0.0, 0.0],\n",
    "[\"ВСЛЕДСТВИЕ\",1.0, 0.0, 0.0, 0.0, 0.0],\n",
    "[\"В РАСПОРЯЖЕНИЕ\", 1.0, 0.0, 0.0, 0.0, 0.0],\n",
    "[\"С ЦЕЛЬЮ\",1.0, 0.0, 0.0, 0.0, 0.0],\n",
    "[\"В ШАГЕ ОТ\",1.0, 0.0, 0.0, 0.0, 0.0],\n",
    "[\"ПО ОТНОШЕНИЮ К\", 0.0, 1.0, 0.0, 0.0, 0.0],\n",
    "[\"В РОЛИ\",1.0, 0.0, 0.0, 0.0, 0.0],\n",
    "[\"СООТВЕТСТВЕННО С\", 0.0, 0.0, 0.0, 1.0, 0.0],\n",
    "[\"СВЕРХУ\",1.0, 0.0, 0.0, 0.0, 0.0],\n",
    "[\"В ИНТЕРЕСАХ\",1.0, 0.0, 0.0, 0.0, 0.0],\n",
    "[\"ПО МЕРЕ\",1.0, 0.0, 0.0, 0.0, 0.0],\n",
    "[\"НА СМЕНУ\",0.0, 1.0, 0.0, 0.0, 0.0],\n",
    "[\"ПО СРАВНЕНИЮ С\", 0.0, 0.0, 0.0, 1.0, 0.0],\n",
    "[\"ИСХОДЯ ИЗ\",1.0, 0.0, 0.0, 0.0, 0.0],\n",
    "[\"В ЗАВИСИМОСТИ ОТ\", 1.0, 0.0, 0.0, 0.0, 0.0],\n",
    "[\"ПО ПОВОДУ\",1.0, 0.0, 0.0, 0.0, 0.0],\n",
    "[\"ИЗНУТРИ\",1.0, 0.0, 0.0, 0.0, 0.0]\n",
    "]\n",
    "\n",
    "pp_dict = {}\n",
    "pps = []\n",
    "for pp in model:\n",
    "    pp_dict[pp[0]] = {}\n",
    "    pps.append(' '.join(pp[0].split(' ')[:1]))\n",
    "    pps.append(' '.join(pp[0].split(' ')[:2]))\n",
    "    pps.append(' '.join(pp[0].split(' ')[:3]))\n",
    "    pps.append(' '.join(pp[0].split(' ')[:4]))\n",
    "    for i in zip(pp[1:], ['род', 'дат', 'вин', 'твор', 'пр']):\n",
    "        if i[0] != 0.0:\n",
    "            pp_dict[pp[0]][i[1]] = i[0]\n",
    "            \n",
    "pps = set(pps)"
   ]
  },
  {
   "cell_type": "code",
   "execution_count": 4,
   "metadata": {
    "execution": {
     "iopub.execute_input": "2022-05-06T22:06:40.967227Z",
     "iopub.status.busy": "2022-05-06T22:06:40.966941Z",
     "iopub.status.idle": "2022-05-06T22:06:45.485267Z",
     "shell.execute_reply": "2022-05-06T22:06:45.484187Z",
     "shell.execute_reply.started": "2022-05-06T22:06:40.967195Z"
    }
   },
   "outputs": [
    {
     "name": "stderr",
     "output_type": "stream",
     "text": [
      "100%|██████████| 206164/206164 [1:59:19<00:00, 28.80it/s]    \n"
     ]
    }
   ],
   "source": [
    "from tqdm import tqdm\n",
    "import random\n",
    "import re\n",
    "import string\n",
    "\n",
    "p = string.punctuation\n",
    "cases = {'им': 'nomn',\n",
    " 'род': 'gent',\n",
    " 'дат': 'datv',\n",
    " 'вин': 'accs',\n",
    " 'твор': 'ablt',\n",
    " 'пр': 'loct'}\n",
    "data = []\n",
    "word_pat = '^[\\w]+(-[\\w]+)*$'\n",
    "punct_pat = f'^[{p}]+$'\n",
    "dig_pat = '^[\\d]+'\n",
    "for text in tqdm(texts):\n",
    "    correct_text = []\n",
    "    errors = []\n",
    "    incorrect_text = []\n",
    "    poses =[]\n",
    "    candidate = []\n",
    "    info = m.analyze(text)\n",
    "    for i, token in enumerate(info):\n",
    "        if not token['text'].isspace():\n",
    "            if 'analysis' not in token or len(token['analysis']) == 0:\n",
    "                if re.match(punct_pat, token['text']):\n",
    "                    pos = 'PUNCT'\n",
    "                elif re.match(dig_pat, token['text']):\n",
    "                    pos = 'DIG'\n",
    "                else:\n",
    "                    pos ='UNK'\n",
    "            else:\n",
    "                #print(token)\n",
    "                anl = token['analysis'][0]\n",
    "                pos = anl['gr'].split('=')[0].split('|')[0].split(',')[0]\n",
    "            poses.append(pos)\n",
    "            if ' '.join(candidate + [token['text']]).upper() in pps:\n",
    "                candidate.append(token['text'])\n",
    "            elif candidate == [] or ' '.join(candidate).upper() not in pp_dict:\n",
    "                candidate = []\n",
    "            else:\n",
    "                pr = ' '.join(candidate)\n",
    "                pr_cases = pp_dict[pr.upper()]\n",
    "                k = 0\n",
    "                if poses[-2] == 'PR' or cases[max(pr_cases.keys(), key=lambda x: pr_cases[x])] in anl['gr'].split('=')[1]:\n",
    "                    for j in range(i, min(i + 6, len(info))):\n",
    "                        true_form = info[j]['text']\n",
    "                        error_form = info[j]['text']\n",
    "                        if 'analysis' in info[j] and len(info[j]['analysis']) != 0:\n",
    "                            cont_an = info[j]['analysis'][0]\n",
    "                            cont_pos = cont_an['gr'].split('=')[0].split('|')[0].split(',')[0]\n",
    "                            if cont_pos in ['S', 'SPRO', 'A', 'ANUM', 'APRO']:\n",
    "                                k += 1\n",
    "                                if k == 1:\n",
    "                                    if 'ед' in cont_an['gr'].split('=')[1]:\n",
    "                                        n = 'sing'\n",
    "                                    else:\n",
    "                                        n = 'plur'\n",
    "                                    if 'жен' in cont_an['gr']:\n",
    "                                        gen = 'femn'\n",
    "                                    elif 'муж' in cont_an['gr']:\n",
    "                                        gen = 'masc'\n",
    "                                    else:\n",
    "                                        gen = 'neut'\n",
    "                                    case_true = cases[max(pr_cases.keys(), key=lambda x: pr_cases[x])]\n",
    "                                    if len(pr_cases) > 1:\n",
    "                                        case_true = cases[max(pr_cases.keys(), key=lambda x: pr_cases[x])]\n",
    "                                        for cs in sorted(pr_cases, key=lambda x: pr_cases[x], reverse=True):\n",
    "                                            if cs in cont_an['gr'].split('=')[1]:\n",
    "                                                case_true = cases[cs]\n",
    "                                                break\n",
    "                                    case_err = case_true\n",
    "                                    a  = 0\n",
    "                                    while case_err == case_true and a < 6:\n",
    "                                        case_err = random.choice(list(cases.values()))\n",
    "                                        a += 1\n",
    "                                try:\n",
    "                                    error_form = morph.parse(true_form)[0].inflect({case_err, n, gen}).word\n",
    "                                    true_form = morph.parse(true_form)[0].inflect({case_true, n, gen}).word\n",
    "                                except:\n",
    "                                    try:\n",
    "                                        error_form = morph.parse(true_form)[0].inflect({case_err, n}).word\n",
    "                                        true_form = morph.parse(true_form)[0].inflect({case_true, n}).word\n",
    "                                    except:\n",
    "                                        pass\n",
    "                                if len(correct_text) <= j:\n",
    "                                    correct_text.append(true_form)\n",
    "                                    incorrect_text.append(error_form)\n",
    "                                else:\n",
    "                                    correct_text[j] = true_form\n",
    "                                    incorrect_text[j] = error_form\n",
    "                                if cont_pos in ['S', 'SPRO'] or j == i+4:\n",
    "                                    errors.append((pr.lower(), n, gen, case_true, case_err, true_form, error_form, cont_an['lex']))\n",
    "                                    break\n",
    "                            else:\n",
    "                                if len(correct_text) <= j:\n",
    "                                    correct_text.append(true_form)\n",
    "                                    incorrect_text.append(error_form)\n",
    "                                else:\n",
    "                                    correct_text[j] = true_form\n",
    "                                    incorrect_text[j] = error_form\n",
    "                        elif true_form.isspace():\n",
    "                            if len(correct_text) <= j:\n",
    "                                correct_text.append(' ')\n",
    "                                incorrect_text.append(' ')\n",
    "                            else:\n",
    "                                correct_text[j] = ' '\n",
    "                                incorrect_text[j] = ' '\n",
    "                        else:\n",
    "                            if len(correct_text) <= j:\n",
    "                                correct_text.append(info[j]['text'])\n",
    "                                incorrect_text.append(info[j]['text'])\n",
    "                            else:\n",
    "                                correct_text[j] = info[j]['text']\n",
    "                                incorrect_text[j] = info[j]['text']\n",
    "                        \n",
    "                    candidate = []\n",
    "                    \n",
    "            if len(correct_text) <= i:\n",
    "                correct_text.append(token['text'])\n",
    "                incorrect_text.append(token['text'])\n",
    "\n",
    "        elif len(correct_text) <= i:\n",
    "            correct_text.append(' ')\n",
    "            incorrect_text.append(' ')\n",
    "        else:\n",
    "            correct_text[i] = ' '\n",
    "            incorrect_text[i] = ' '\n",
    "    data.append({'correct': ''.join(correct_text), 'incorrect': ''.join(incorrect_text), 'errors': errors, 'poses': poses})"
   ]
  },
  {
   "cell_type": "code",
   "execution_count": 7,
   "metadata": {},
   "outputs": [
    {
     "data": {
      "text/plain": [
       "206164"
      ]
     },
     "execution_count": 7,
     "metadata": {},
     "output_type": "execute_result"
    }
   ],
   "source": [
    "len(new_df)"
   ]
  },
  {
   "cell_type": "code",
   "execution_count": 11,
   "metadata": {},
   "outputs": [],
   "source": [
    "#new_df = pd.DataFrame(data)\n",
    "new_df.to_csv('noisy_data.csv', columns=['incorrect', 'correct'], header=['input', 'target'], index=False)"
   ]
  },
  {
   "cell_type": "code",
   "execution_count": 2,
   "metadata": {},
   "outputs": [
    {
     "data": {
      "text/html": [
       "<div>\n",
       "<style scoped>\n",
       "    .dataframe tbody tr th:only-of-type {\n",
       "        vertical-align: middle;\n",
       "    }\n",
       "\n",
       "    .dataframe tbody tr th {\n",
       "        vertical-align: top;\n",
       "    }\n",
       "\n",
       "    .dataframe thead th {\n",
       "        text-align: right;\n",
       "    }\n",
       "</style>\n",
       "<table border=\"1\" class=\"dataframe\">\n",
       "  <thead>\n",
       "    <tr style=\"text-align: right;\">\n",
       "      <th></th>\n",
       "      <th>input</th>\n",
       "      <th>target</th>\n",
       "    </tr>\n",
       "  </thead>\n",
       "  <tbody>\n",
       "    <tr>\n",
       "      <th>0</th>\n",
       "      <td>Военнослужащие Сирийской арабской армии захват...</td>\n",
       "      <td>Военнослужащие Сирийской арабской армии захват...</td>\n",
       "    </tr>\n",
       "    <tr>\n",
       "      <th>1</th>\n",
       "      <td>В россию завершилась внезапная проверка боевой...</td>\n",
       "      <td>В россии завершилась внезапная проверка боевой...</td>\n",
       "    </tr>\n",
       "    <tr>\n",
       "      <th>2</th>\n",
       "      <td>Президент США Дональд Трамп прокомментировал с...</td>\n",
       "      <td>Президент США Дональд Трамп прокомментировал с...</td>\n",
       "    </tr>\n",
       "    <tr>\n",
       "      <th>3</th>\n",
       "      <td>Немецкие компании разрабатывают ответные меры ...</td>\n",
       "      <td>Немецкие компании разрабатывают ответные меры ...</td>\n",
       "    </tr>\n",
       "    <tr>\n",
       "      <th>4</th>\n",
       "      <td>Чернокожий подросток в сша заработал на продаж...</td>\n",
       "      <td>Чернокожий подросток в сша заработал на продаж...</td>\n",
       "    </tr>\n",
       "  </tbody>\n",
       "</table>\n",
       "</div>"
      ],
      "text/plain": [
       "                                               input  \\\n",
       "0  Военнослужащие Сирийской арабской армии захват...   \n",
       "1  В россию завершилась внезапная проверка боевой...   \n",
       "2  Президент США Дональд Трамп прокомментировал с...   \n",
       "3  Немецкие компании разрабатывают ответные меры ...   \n",
       "4  Чернокожий подросток в сша заработал на продаж...   \n",
       "\n",
       "                                              target  \n",
       "0  Военнослужащие Сирийской арабской армии захват...  \n",
       "1  В россии завершилась внезапная проверка боевой...  \n",
       "2  Президент США Дональд Трамп прокомментировал с...  \n",
       "3  Немецкие компании разрабатывают ответные меры ...  \n",
       "4  Чернокожий подросток в сша заработал на продаж...  "
      ]
     },
     "execution_count": 2,
     "metadata": {},
     "output_type": "execute_result"
    }
   ],
   "source": [
    "import pandas as pd\n",
    "\n",
    "check_df  = pd.read_csv('noisy_data.csv')\n",
    "check_df.head()"
   ]
  },
  {
   "cell_type": "code",
   "execution_count": 3,
   "metadata": {},
   "outputs": [
    {
     "data": {
      "text/plain": [
       "206164"
      ]
     },
     "execution_count": 3,
     "metadata": {},
     "output_type": "execute_result"
    }
   ],
   "source": [
    "len(check_df)"
   ]
  },
  {
   "cell_type": "code",
   "execution_count": 8,
   "metadata": {},
   "outputs": [],
   "source": [
    "from sklearn.model_selection import train_test_split\n",
    "\n",
    "\n",
    "train, test = train_test_split(check_df, test_size=0.1, shuffle=False)"
   ]
  },
  {
   "cell_type": "code",
   "execution_count": 15,
   "metadata": {},
   "outputs": [
    {
     "data": {
      "text/plain": [
       "True"
      ]
     },
     "execution_count": 15,
     "metadata": {},
     "output_type": "execute_result"
    }
   ],
   "source": [
    "len(train) + len(test) == len(check_df)"
   ]
  },
  {
   "cell_type": "code",
   "execution_count": 10,
   "metadata": {},
   "outputs": [
    {
     "data": {
      "text/plain": [
       "20617"
      ]
     },
     "execution_count": 10,
     "metadata": {},
     "output_type": "execute_result"
    }
   ],
   "source": [
    "len(test)"
   ]
  },
  {
   "cell_type": "code",
   "execution_count": 11,
   "metadata": {},
   "outputs": [],
   "source": [
    "train.to_csv('train.csv')\n",
    "test.to_csv('test.csv')"
   ]
  },
  {
   "cell_type": "code",
   "execution_count": 16,
   "metadata": {},
   "outputs": [],
   "source": [
    "train = train.applymap(lambda x: 'grammar: ' + x)\n",
    "test = test.applymap(lambda x: 'grammar: ' + x)\n",
    "train.to_csv('train_t5.csv')\n",
    "test.to_csv('test_t5.csv')"
   ]
  },
  {
   "cell_type": "code",
   "execution_count": 21,
   "metadata": {},
   "outputs": [],
   "source": [
    "train['target'] = train['target'].apply(lambda x: x[9:])\n",
    "test['target'] = test['target'].apply(lambda x: x[9:])"
   ]
  },
  {
   "cell_type": "code",
   "execution_count": 24,
   "metadata": {},
   "outputs": [],
   "source": [
    "train.to_csv('train_t5.csv')\n",
    "test.to_csv('test_t5.csv')"
   ]
  },
  {
   "cell_type": "code",
   "execution_count": 25,
   "metadata": {},
   "outputs": [
    {
     "data": {
      "text/html": [
       "<div>\n",
       "<style scoped>\n",
       "    .dataframe tbody tr th:only-of-type {\n",
       "        vertical-align: middle;\n",
       "    }\n",
       "\n",
       "    .dataframe tbody tr th {\n",
       "        vertical-align: top;\n",
       "    }\n",
       "\n",
       "    .dataframe thead th {\n",
       "        text-align: right;\n",
       "    }\n",
       "</style>\n",
       "<table border=\"1\" class=\"dataframe\">\n",
       "  <thead>\n",
       "    <tr style=\"text-align: right;\">\n",
       "      <th></th>\n",
       "      <th>Unnamed: 0</th>\n",
       "      <th>input</th>\n",
       "      <th>target</th>\n",
       "    </tr>\n",
       "  </thead>\n",
       "  <tbody>\n",
       "    <tr>\n",
       "      <th>0</th>\n",
       "      <td>185547</td>\n",
       "      <td>grammar: Антироссийские санкции неприятны и ме...</td>\n",
       "      <td>Антироссийские санкции неприятны и мешают разв...</td>\n",
       "    </tr>\n",
       "    <tr>\n",
       "      <th>1</th>\n",
       "      <td>185548</td>\n",
       "      <td>grammar: Адвокаты обвинили актрису Эмбер Херд ...</td>\n",
       "      <td>Адвокаты обвинили актрису Эмбер Херд в сговоре...</td>\n",
       "    </tr>\n",
       "    <tr>\n",
       "      <th>2</th>\n",
       "      <td>185549</td>\n",
       "      <td>grammar: Соломенский районный суд Киева отправ...</td>\n",
       "      <td>Соломенский районный суд Киева отправил под но...</td>\n",
       "    </tr>\n",
       "    <tr>\n",
       "      <th>3</th>\n",
       "      <td>185550</td>\n",
       "      <td>grammar: Количество кибератак, связанных с тем...</td>\n",
       "      <td>Количество кибератак, связанных с тематикой ко...</td>\n",
       "    </tr>\n",
       "    <tr>\n",
       "      <th>4</th>\n",
       "      <td>185551</td>\n",
       "      <td>grammar: Вице-премьер России Марат Хуснуллин р...</td>\n",
       "      <td>Вице-премьер России Марат Хуснуллин рассказал ...</td>\n",
       "    </tr>\n",
       "  </tbody>\n",
       "</table>\n",
       "</div>"
      ],
      "text/plain": [
       "   Unnamed: 0                                              input  \\\n",
       "0      185547  grammar: Антироссийские санкции неприятны и ме...   \n",
       "1      185548  grammar: Адвокаты обвинили актрису Эмбер Херд ...   \n",
       "2      185549  grammar: Соломенский районный суд Киева отправ...   \n",
       "3      185550  grammar: Количество кибератак, связанных с тем...   \n",
       "4      185551  grammar: Вице-премьер России Марат Хуснуллин р...   \n",
       "\n",
       "                                              target  \n",
       "0  Антироссийские санкции неприятны и мешают разв...  \n",
       "1  Адвокаты обвинили актрису Эмбер Херд в сговоре...  \n",
       "2  Соломенский районный суд Киева отправил под но...  \n",
       "3  Количество кибератак, связанных с тематикой ко...  \n",
       "4  Вице-премьер России Марат Хуснуллин рассказал ...  "
      ]
     },
     "execution_count": 25,
     "metadata": {},
     "output_type": "execute_result"
    }
   ],
   "source": [
    "pd.read_csv('test_t5.csv').head()"
   ]
  },
  {
   "cell_type": "code",
   "execution_count": null,
   "metadata": {},
   "outputs": [],
   "source": []
  }
 ],
 "metadata": {
  "kernelspec": {
   "display_name": "Python 3",
   "language": "python",
   "name": "python3"
  },
  "language_info": {
   "codemirror_mode": {
    "name": "ipython",
    "version": 3
   },
   "file_extension": ".py",
   "mimetype": "text/x-python",
   "name": "python",
   "nbconvert_exporter": "python",
   "pygments_lexer": "ipython3",
   "version": "3.7.4"
  }
 },
 "nbformat": 4,
 "nbformat_minor": 4
}
